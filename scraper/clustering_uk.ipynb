{
 "cells": [
  {
   "cell_type": "code",
   "execution_count": null,
   "metadata": {},
   "outputs": [],
   "source": [
    "import pandas as pd\n",
    "import csv\n",
    "import math\n",
    "import numpy as np # library to handle data in a vectorized manner\n",
    "import folium # map rendering library\n",
    "\n",
    "import matplotlib.pyplot as plt # plotting library\n",
    "# backend for rendering plots within the browser\n",
    "%matplotlib inline \n",
    "\n",
    "from sklearn.cluster import KMeans\n",
    "\n",
    "import matplotlib.cm as cm\n",
    "import matplotlib.colors as colors\n",
    "\n",
    "\n",
    "print('Libraries imported.')\n"
   ]
  },
  {
   "cell_type": "code",
   "execution_count": null,
   "metadata": {},
   "outputs": [],
   "source": [
    "FILENAME='scraped_venues_tiled.csv'\n",
    "\n",
    "df_all=pd.read_csv(FILENAME)\n",
    "df_all.drop_duplicates(subset='Id',inplace=True)\n",
    "print('{} unique venues in total'.format(len(df_all)))\n",
    "\n",
    "lat_list=df_all['Latitude'].tolist()\n",
    "lng_list=df_all['Longtitude'].tolist()\n",
    "\n",
    "lng_list_equidistant=[]\n",
    "\n",
    "for i in range(0, len(lat_list)):\n",
    "    lng_list_equidistant.append(lng_list[i]*math.cos(math.radians(lat_list[i]))) \n",
    "    \n",
    "df_all['Longtitude_equidistant'] = lng_list_equidistant\n",
    "df_all\n",
    "\n"
   ]
  },
  {
   "cell_type": "code",
   "execution_count": null,
   "metadata": {},
   "outputs": [],
   "source": [
    "n_clusters = 991\n",
    "\n",
    "k_means_all = KMeans(n_clusters = n_clusters, verbose=2 )\n",
    "k_means_all.fit(df_all[['Latitude','Longtitude_equidistant']])\n",
    "\n",
    "df_all['Neighborhood_label'] = k_means_all.labels_\n",
    "\n",
    "df_all"
   ]
  },
  {
   "cell_type": "code",
   "execution_count": 3,
   "metadata": {},
   "outputs": [
    {
     "name": "stdout",
     "output_type": "stream",
     "text": [
      "Scraped venue counts:\n",
      "London: 40635\n",
      "Manchester: 12296\n",
      "Birmingham: 11570\n",
      "Berlin: 19713\n",
      "Rome: 14859\n"
     ]
    }
   ],
   "source": [
    "london_rows = df_all.City.str.contains('London')\n",
    "manchester_rows = df_all.City.str.contains('Manchester')\n",
    "birmingham_rows = df_all.City.str.contains('Birmingham')\n",
    "berlin_rows = df_all.City.str.contains('Berlin')\n",
    "rome_rows = df_all.City.str.contains('Rome')\n",
    "\n",
    "\n",
    "df_london = df_all[london_rows].reset_index(drop=True)\n",
    "df_manchester = df_all[manchester_rows].reset_index(drop=True)\n",
    "df_birmingham = df_all[birmingham_rows].reset_index(drop=True)\n",
    "df_berlin = df_all[berlin_rows].reset_index(drop=True)\n",
    "df_rome = df_all[rome_rows].reset_index(drop=True)\n",
    "\n",
    "print('Scraped venue counts:')\n",
    "print('London: {}'.format(len(df_london)))\n",
    "print('Manchester: {}'.format(len(df_manchester)))\n",
    "print('Birmingham: {}'.format(len(df_birmingham)))\n",
    "print('Berlin: {}'.format(len(df_berlin)))\n",
    "print('Rome: {}'.format(len(df_rome)))\n",
    "\n",
    "\n",
    "\n"
   ]
  },
  {
   "cell_type": "code",
   "execution_count": 14,
   "metadata": {},
   "outputs": [
    {
     "data": {
      "text/plain": [
       "(99073, 673)"
      ]
     },
     "execution_count": 14,
     "metadata": {},
     "output_type": "execute_result"
    }
   ],
   "source": [
    "pd.get_dummies(df_all[['Categories']],prefix='', prefix_sep='').shape"
   ]
  },
  {
   "cell_type": "code",
   "execution_count": null,
   "metadata": {},
   "outputs": [],
   "source": [
    "mean_latitude_list_berlin=df_berlin.groupby('Neighborhood_label').mean()['Latitude'].tolist()\n",
    "mean_longtitude_list_berlin=df_berlin.groupby('Neighborhood_label').mean()['Longtitude'].tolist()\n",
    "\n",
    "import statistics\n",
    "\n",
    "mean_latitude_berlin=statistics.mean(mean_latitude_list_berlin)\n",
    "mean_longtitude_berlin=statistics.mean(mean_longtitude_list_berlin)\n",
    "\n"
   ]
  },
  {
   "cell_type": "code",
   "execution_count": null,
   "metadata": {},
   "outputs": [],
   "source": []
  },
  {
   "cell_type": "code",
   "execution_count": null,
   "metadata": {},
   "outputs": [],
   "source": [
    "map_clusters = folium.Map(location=[mean_latitude_berlin, mean_longtitude_berlin], zoom_start=11)\n",
    "\n",
    "for lat,lng in zip(mean_latitude_list_berlin, mean_longtitude_list_berlin):\n",
    "    \n",
    "    folium.CircleMarker(\n",
    "        [lat, lng],\n",
    "        radius=5,\n",
    "        color='blue',\n",
    "        fill=True,\n",
    "        fill_color='#3186cc',\n",
    "        fill_opacity=0.7,\n",
    "        parse_html=False).add_to(map_clusters)\n",
    "\n",
    "for lat,lng in zip(df_berlin['Latitude'].head(2000), df_berlin['Longtitude'].head(2000)):\n",
    "    \n",
    "    folium.CircleMarker(\n",
    "        [lat, lng],\n",
    "        radius=2,\n",
    "        color='red',\n",
    "        fill=True,\n",
    "        fill_color='#3186cc',\n",
    "        fill_opacity=0.7,\n",
    "        parse_html=False).add_to(map_clusters)    \n",
    "    \n",
    "\n",
    "map_clusters"
   ]
  },
  {
   "cell_type": "code",
   "execution_count": null,
   "metadata": {},
   "outputs": [],
   "source": [
    "mean_latitude_list_rome=df_rome.groupby('Neighborhood_label').mean()['Latitude'].tolist()\n",
    "mean_longtitude_list_rome=df_rome.groupby('Neighborhood_label').mean()['Longtitude'].tolist()\n",
    "\n",
    "import statistics\n",
    "\n",
    "mean_latitude_rome=statistics.mean(mean_latitude_list_rome)\n",
    "mean_longtitude_rome=statistics.mean(mean_longtitude_list_rome)\n",
    "\n",
    "map_clusters_rome = folium.Map(location=[mean_latitude_rome, mean_longtitude_rome], zoom_start=11)\n",
    "\n",
    "for lat,lng in zip(mean_latitude_list_rome, mean_longtitude_list_rome):\n",
    "    \n",
    "    folium.CircleMarker(\n",
    "        [lat, lng],\n",
    "        radius=5,\n",
    "        color='blue',\n",
    "        fill=True,\n",
    "        fill_color='#3186cc',\n",
    "        fill_opacity=0.7,\n",
    "        parse_html=False).add_to(map_clusters_rome)\n",
    "\n",
    "for lat,lng in zip(df_rome['Latitude'].head(2000), df_rome['Longtitude'].head(2000)):\n",
    "    \n",
    "    folium.CircleMarker(\n",
    "        [lat, lng],\n",
    "        radius=2,\n",
    "        color='red',\n",
    "        fill=True,\n",
    "        fill_color='#3186cc',\n",
    "        fill_opacity=0.7,\n",
    "        parse_html=False).add_to(map_clusters_rome)    \n",
    "    \n",
    "\n",
    "map_clusters_rome"
   ]
  },
  {
   "cell_type": "code",
   "execution_count": null,
   "metadata": {},
   "outputs": [],
   "source": [
    "mean_latitude_list_london=df_london.groupby('Neighborhood_label').mean()['Latitude'].tolist()\n",
    "mean_longtitude_list_london=df_london.groupby('Neighborhood_label').mean()['Longtitude'].tolist()\n",
    "\n",
    "import statistics\n",
    "\n",
    "mean_latitude_london=statistics.mean(mean_latitude_list_london)\n",
    "mean_longtitude_london=statistics.mean(mean_longtitude_list_london)\n",
    "\n",
    "map_clusters_london = folium.Map(location=[mean_latitude_london, mean_longtitude_london], zoom_start=11)\n",
    "\n",
    "for lat,lng in zip(mean_latitude_list_london, mean_longtitude_list_london):\n",
    "    \n",
    "    folium.CircleMarker(\n",
    "        [lat, lng],\n",
    "        radius=5,\n",
    "        color='blue',\n",
    "        fill=True,\n",
    "        fill_color='#3186cc',\n",
    "        fill_opacity=0.7,\n",
    "        parse_html=False).add_to(map_clusters_london)\n",
    "\n",
    "for lat,lng in zip(df_london['Latitude'].head(2000), df_london['Longtitude'].head(2000)):\n",
    "    \n",
    "    folium.CircleMarker(\n",
    "        [lat, lng],\n",
    "        radius=2,\n",
    "        color='red',\n",
    "        fill=True,\n",
    "        fill_color='#3186cc',\n",
    "        fill_opacity=0.7,\n",
    "        parse_html=False).add_to(map_clusters_london)    \n",
    "    \n",
    "\n",
    "map_clusters_london\n"
   ]
  },
  {
   "cell_type": "code",
   "execution_count": null,
   "metadata": {},
   "outputs": [],
   "source": [
    "df_london.to_csv('clustered_london.csv',index=False)\n",
    "df_manchester.to_csv('clustered_manchester.csv',index=False)\n",
    "df_birmingham.to_csv('clustered_birmigham.csv',index=False)\n",
    "df_berlin.to_csv('clustered_berlin.csv',index=False)\n",
    "df_rome.to_csv('clustered_rome.csv',index=False)\n",
    "df_all.to_csv('clustered_all.csv',index=False)\n",
    "\n",
    "df_uk = pd.concat([df_london, df_manchester, df_birmingham])\n",
    "df_capitals = pd.concat([df_london, df_berlin, df_rome])\n",
    "df_b2uk = pd.concat([df_berlin, df_birmingham, df_manchester])\n",
    "\n",
    "df_uk.to_csv('clustered_uk.csv',index=False)\n",
    "df_capitals.to_csv('clustered_capitals.csv',index=False)\n",
    "df_b2uk.to_csv('clustered_b2uk.csv',index=False)\n",
    "\n"
   ]
  }
 ],
 "metadata": {
  "kernelspec": {
   "display_name": "Python 3",
   "language": "python",
   "name": "python3"
  },
  "language_info": {
   "codemirror_mode": {
    "name": "ipython",
    "version": 3
   },
   "file_extension": ".py",
   "mimetype": "text/x-python",
   "name": "python",
   "nbconvert_exporter": "python",
   "pygments_lexer": "ipython3",
   "version": "3.7.3"
  }
 },
 "nbformat": 4,
 "nbformat_minor": 2
}
