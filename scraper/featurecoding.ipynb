{
 "cells": [
  {
   "cell_type": "code",
   "execution_count": 12,
   "metadata": {},
   "outputs": [],
   "source": [
    "import pandas as pd\n",
    "import csv\n",
    "import math\n",
    "import statistics\n",
    "import re\n"
   ]
  },
  {
   "cell_type": "code",
   "execution_count": null,
   "metadata": {},
   "outputs": [],
   "source": [
    "clustered_all"
   ]
  },
  {
   "cell_type": "code",
   "execution_count": 4,
   "metadata": {},
   "outputs": [],
   "source": [
    "clustered_all = pd.read_csv('clustered_all.csv')\n"
   ]
  },
  {
   "cell_type": "code",
   "execution_count": 29,
   "metadata": {},
   "outputs": [
    {
     "data": {
      "text/plain": [
       "'London'"
      ]
     },
     "execution_count": 29,
     "metadata": {},
     "output_type": "execute_result"
    }
   ],
   "source": [
    "onehot = pd.get_dummies(clustered_all[['Categories']],prefix='', prefix_sep='')\n",
    "onehot['Neighborhood_label']=clustered_all['Neighborhood_label']\n",
    "\n",
    "city_list=clustered_all['City'].tolist()\n",
    "label_list=clustered_all['Neighborhood_label'].tolist()\n",
    "\n",
    "clusterToCity={}\n",
    "\n",
    "for i in range(0, len(city_list)):\n",
    "    clusterToCity[label_list[i]] = firstword(city_list[i]) \n",
    "\n",
    "def firstword(str):\n",
    "  return re.split(',',str)[0]  \n",
    "\n",
    "#city_list=list(map(firstword, city_list))\n",
    "#onehot['City_name']=city_list\n",
    "\n",
    "fixed_columns = [onehot.columns[-1]] + list(onehot.columns[:-1])\n",
    "onehot = onehot[fixed_columns]\n",
    "\n",
    "clusterToCity[625]\n",
    "\n"
   ]
  },
  {
   "cell_type": "code",
   "execution_count": 36,
   "metadata": {},
   "outputs": [],
   "source": [
    "neighborhood_features=onehot.groupby('Neighborhood_label').mean().reset_index()\n",
    "\n",
    "\n",
    "city_name_list = neighborhood_features['Neighborhood_label'].tolist()\n",
    "\n",
    "for i in range(0,len(city_name_list)):\n",
    "    city_name_list[i] = clusterToCity[city_name_list[i]]\n",
    "    \n",
    "neighborhood_features['City_name'] = city_name_list\n",
    "\n",
    "\n",
    "neighborhood_features.to_csv('neighborhood_features.csv',index=False, header=False)\n",
    "neighborhood_features['City_name'].to_csv('city_names.csv',index=False, header=False)\n",
    "neighborhood_features.drop(columns=['Neighborhood_label','City_name'], inplace=True)\n",
    "neighborhood_features.to_csv('neighborhood_features_unlabelled.csv',index=False, header=False)\n"
   ]
  }
 ],
 "metadata": {
  "kernelspec": {
   "display_name": "Python 3",
   "language": "python",
   "name": "python3"
  },
  "language_info": {
   "codemirror_mode": {
    "name": "ipython",
    "version": 3
   },
   "file_extension": ".py",
   "mimetype": "text/x-python",
   "name": "python",
   "nbconvert_exporter": "python",
   "pygments_lexer": "ipython3",
   "version": "3.7.3"
  }
 },
 "nbformat": 4,
 "nbformat_minor": 2
}
