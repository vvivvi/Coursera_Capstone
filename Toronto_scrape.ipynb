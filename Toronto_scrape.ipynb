{
    "nbformat_minor": 1, 
    "cells": [
        {
            "source": "# Notebook for scraping Toronto neighbourhood data from Wikipedia", 
            "cell_type": "markdown", 
            "metadata": {}
        }, 
        {
            "source": "Import necessary libraries:", 
            "cell_type": "markdown", 
            "metadata": {}
        }, 
        {
            "source": "from bs4 import BeautifulSoup\nimport requests\nimport pandas as pd", 
            "cell_type": "code", 
            "metadata": {}, 
            "outputs": [], 
            "execution_count": 22
        }, 
        {
            "source": "Fetch the html from Wikipedia and parse it into BS4 object", 
            "cell_type": "markdown", 
            "metadata": {}
        }, 
        {
            "source": "wiki_html = requests.get('https://en.wikipedia.org/wiki/List_of_postal_codes_of_Canada:_M').text\nsoup = BeautifulSoup(wiki_html,'lxml')", 
            "cell_type": "code", 
            "metadata": {}, 
            "outputs": [], 
            "execution_count": 8
        }, 
        {
            "source": "Iterate through the data structure and build a pandas dataframe\nDeal with 'Not assigned' boroughs and collapse neighbourhoods with the same post code during the dataframe building", 
            "cell_type": "markdown", 
            "metadata": {}
        }, 
        {
            "source": "df_table=pd.DataFrame(columns=['PostalCode','Borough','Neighbourhood'])\n\ntable = soup.find('table',{'class':'wikitable sortable'})\ntrows = table.findAll('tr')\nfor trow in trows:\n    g=trow.stripped_strings\n    c0=next(g)\n    c1=next(g)\n    c2=next(g)\n    if c2=='Not assigned':\n        c2=c1\n    if c1 != 'Not assigned':    \n        if df_table.shape[0]>0 and c0==df_table.iloc[-1]['PostalCode']:\n            df_table.iloc[-1]['Neighbourhood']=df_table.iloc[-1]['Neighbourhood']+\", \"+c2\n        else:                \n            df_table=df_table.append({'PostalCode' : c0 , 'Borough' : c1, 'Neighbourhood':c2} , ignore_index=True)\n\n# drop first row(column titles) from the dataframe\ndf_table.drop(df_table.index[[0]],inplace=True)\ndf_table.reset_index(inplace=True,drop=True)\ndf_table.head()", 
            "cell_type": "code", 
            "metadata": {}, 
            "outputs": [
                {
                    "output_type": "execute_result", 
                    "data": {
                        "text/html": "<div>\n<style scoped>\n    .dataframe tbody tr th:only-of-type {\n        vertical-align: middle;\n    }\n\n    .dataframe tbody tr th {\n        vertical-align: top;\n    }\n\n    .dataframe thead th {\n        text-align: right;\n    }\n</style>\n<table border=\"1\" class=\"dataframe\">\n  <thead>\n    <tr style=\"text-align: right;\">\n      <th></th>\n      <th>PostalCode</th>\n      <th>Borough</th>\n      <th>Neighbourhood</th>\n    </tr>\n  </thead>\n  <tbody>\n    <tr>\n      <th>0</th>\n      <td>M3A</td>\n      <td>North York</td>\n      <td>Parkwoods</td>\n    </tr>\n    <tr>\n      <th>1</th>\n      <td>M4A</td>\n      <td>North York</td>\n      <td>Victoria Village</td>\n    </tr>\n    <tr>\n      <th>2</th>\n      <td>M5A</td>\n      <td>Downtown Toronto</td>\n      <td>Harbourfront, Regent Park</td>\n    </tr>\n    <tr>\n      <th>3</th>\n      <td>M6A</td>\n      <td>North York</td>\n      <td>Lawrence Heights, Lawrence Manor</td>\n    </tr>\n    <tr>\n      <th>4</th>\n      <td>M7A</td>\n      <td>Queen's Park</td>\n      <td>Queen's Park</td>\n    </tr>\n  </tbody>\n</table>\n</div>", 
                        "text/plain": "  PostalCode           Borough                     Neighbourhood\n0        M3A        North York                         Parkwoods\n1        M4A        North York                  Victoria Village\n2        M5A  Downtown Toronto         Harbourfront, Regent Park\n3        M6A        North York  Lawrence Heights, Lawrence Manor\n4        M7A      Queen's Park                      Queen's Park"
                    }, 
                    "execution_count": 70, 
                    "metadata": {}
                }
            ], 
            "execution_count": 70
        }, 
        {
            "source": "Print out the shape of constructed table", 
            "cell_type": "markdown", 
            "metadata": {}
        }, 
        {
            "source": "df_table.shape       ", 
            "cell_type": "code", 
            "metadata": {}, 
            "outputs": [
                {
                    "output_type": "execute_result", 
                    "data": {
                        "text/plain": "(103, 3)"
                    }, 
                    "execution_count": 72, 
                    "metadata": {}
                }
            ], 
            "execution_count": 72
        }
    ], 
    "metadata": {
        "kernelspec": {
            "display_name": "Python 3.5", 
            "name": "python3", 
            "language": "python"
        }, 
        "language_info": {
            "mimetype": "text/x-python", 
            "nbconvert_exporter": "python", 
            "version": "3.5.5", 
            "name": "python", 
            "pygments_lexer": "ipython3", 
            "file_extension": ".py", 
            "codemirror_mode": {
                "version": 3, 
                "name": "ipython"
            }
        }
    }, 
    "nbformat": 4
}